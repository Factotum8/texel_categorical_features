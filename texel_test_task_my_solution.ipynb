{
 "cells": [
  {
   "cell_type": "markdown",
   "metadata": {
    "id": "ZX7pHlt1ffiz"
   },
   "source": [
    "# Дано:\n",
    "Младшему исследователю из Вашего отдела дали выполнить задание по дизайну признаков (фич) в новом проекте.\n",
    "Определите слабые стороны этого решения и попробуйте улучшить результат (RMSE).\n",
    "\n",
    "Задача была сформулирована так: придумать такие дискретные фичи (не более 5 фичей, каждая фича имеет не более 5 значений), чтобы максимально точно предсказывать по ним значения c3, c4, c5 из имеющегося датасета.\n",
    "\n",
    "Помимо новых дискретных фич допускается использование c1, c2 и d1 в качестве входных переменных (X)."
   ]
  },
  {
   "cell_type": "code",
   "execution_count": 160,
   "metadata": {
    "scrolled": true
   },
   "outputs": [
    {
     "name": "stdout",
     "output_type": "stream",
     "text": [
      "Requirement already satisfied: catboost in c:\\users\\a\\anaconda3\\lib\\site-packages (0.24.4)\n",
      "Requirement already satisfied: matplotlib in c:\\users\\a\\anaconda3\\lib\\site-packages (from catboost) (3.3.2)\n",
      "Requirement already satisfied: graphviz in c:\\users\\a\\anaconda3\\lib\\site-packages (from catboost) (0.16)\n",
      "Requirement already satisfied: numpy>=1.16.0 in c:\\users\\a\\anaconda3\\lib\\site-packages (from catboost) (1.19.2)\n",
      "Requirement already satisfied: scipy in c:\\users\\a\\anaconda3\\lib\\site-packages (from catboost) (1.5.2)\n",
      "Requirement already satisfied: pandas>=0.24.0 in c:\\users\\a\\anaconda3\\lib\\site-packages (from catboost) (1.1.3)\n",
      "Requirement already satisfied: plotly in c:\\users\\a\\anaconda3\\lib\\site-packages (from catboost) (4.14.1)\n",
      "Requirement already satisfied: six in c:\\users\\a\\anaconda3\\lib\\site-packages (from catboost) (1.15.0)\n",
      "Requirement already satisfied: kiwisolver>=1.0.1 in c:\\users\\a\\anaconda3\\lib\\site-packages (from matplotlib->catboost) (1.3.0)\n",
      "Requirement already satisfied: cycler>=0.10 in c:\\users\\a\\anaconda3\\lib\\site-packages (from matplotlib->catboost) (0.10.0)\n",
      "Requirement already satisfied: pillow>=6.2.0 in c:\\users\\a\\anaconda3\\lib\\site-packages (from matplotlib->catboost) (8.0.1)\n",
      "Requirement already satisfied: certifi>=2020.06.20 in c:\\users\\a\\anaconda3\\lib\\site-packages (from matplotlib->catboost) (2020.6.20)\n",
      "Requirement already satisfied: pyparsing!=2.0.4,!=2.1.2,!=2.1.6,>=2.0.3 in c:\\users\\a\\anaconda3\\lib\\site-packages (from matplotlib->catboost) (2.4.7)\n",
      "Requirement already satisfied: python-dateutil>=2.1 in c:\\users\\a\\anaconda3\\lib\\site-packages (from matplotlib->catboost) (2.8.1)\n",
      "Requirement already satisfied: pytz>=2017.2 in c:\\users\\a\\anaconda3\\lib\\site-packages (from pandas>=0.24.0->catboost) (2020.1)\n",
      "Requirement already satisfied: retrying>=1.3.3 in c:\\users\\a\\anaconda3\\lib\\site-packages (from plotly->catboost) (1.3.3)\n"
     ]
    }
   ],
   "source": [
    "!pip install catboost"
   ]
  },
  {
   "cell_type": "code",
   "execution_count": 161,
   "metadata": {
    "id": "XmWMkn6AfgKR"
   },
   "outputs": [],
   "source": [
    "import pandas as pd\n",
    "import numpy as np\n",
    "from sklearn import preprocessing\n",
    "from scipy.cluster.hierarchy import linkage, dendrogram\n",
    "import matplotlib.pyplot as plt\n",
    "from sklearn.cluster import KMeans\n",
    "from sklearn.model_selection import train_test_split\n",
    "from catboost import CatBoostRegressor"
   ]
  },
  {
   "cell_type": "code",
   "execution_count": 162,
   "metadata": {
    "id": "40tZUBXou3aC"
   },
   "outputs": [],
   "source": [
    "df = pd.read_csv('test_data.csv', header=0, index_col=0)"
   ]
  },
  {
   "cell_type": "code",
   "execution_count": 163,
   "metadata": {
    "colab": {
     "base_uri": "https://localhost:8080/",
     "height": 199
    },
    "executionInfo": {
     "elapsed": 1029,
     "status": "ok",
     "timestamp": 1607719316318,
     "user": {
      "displayName": "Oleg",
      "photoUrl": "",
      "userId": "08226370370335703451"
     },
     "user_tz": -180
    },
    "id": "3_g3roJAu3cc",
    "outputId": "cc8019f9-5939-423d-9a68-40af23bcdc2a"
   },
   "outputs": [
    {
     "data": {
      "text/html": [
       "<div>\n",
       "<style scoped>\n",
       "    .dataframe tbody tr th:only-of-type {\n",
       "        vertical-align: middle;\n",
       "    }\n",
       "\n",
       "    .dataframe tbody tr th {\n",
       "        vertical-align: top;\n",
       "    }\n",
       "\n",
       "    .dataframe thead th {\n",
       "        text-align: right;\n",
       "    }\n",
       "</style>\n",
       "<table border=\"1\" class=\"dataframe\">\n",
       "  <thead>\n",
       "    <tr style=\"text-align: right;\">\n",
       "      <th></th>\n",
       "      <th>c1</th>\n",
       "      <th>c2</th>\n",
       "      <th>c3</th>\n",
       "      <th>c4</th>\n",
       "      <th>c5</th>\n",
       "      <th>d1</th>\n",
       "    </tr>\n",
       "  </thead>\n",
       "  <tbody>\n",
       "    <tr>\n",
       "      <th>0</th>\n",
       "      <td>1702.339676</td>\n",
       "      <td>97.151127</td>\n",
       "      <td>1187.449039</td>\n",
       "      <td>1090.136386</td>\n",
       "      <td>1106.530204</td>\n",
       "      <td>0.0</td>\n",
       "    </tr>\n",
       "    <tr>\n",
       "      <th>1</th>\n",
       "      <td>1667.720643</td>\n",
       "      <td>80.366907</td>\n",
       "      <td>1081.197827</td>\n",
       "      <td>945.367799</td>\n",
       "      <td>1087.782255</td>\n",
       "      <td>1.0</td>\n",
       "    </tr>\n",
       "    <tr>\n",
       "      <th>2</th>\n",
       "      <td>1719.730118</td>\n",
       "      <td>69.581754</td>\n",
       "      <td>967.808030</td>\n",
       "      <td>812.721484</td>\n",
       "      <td>995.881811</td>\n",
       "      <td>0.0</td>\n",
       "    </tr>\n",
       "    <tr>\n",
       "      <th>3</th>\n",
       "      <td>1681.895917</td>\n",
       "      <td>96.473315</td>\n",
       "      <td>1146.784418</td>\n",
       "      <td>1047.934966</td>\n",
       "      <td>1112.788168</td>\n",
       "      <td>0.0</td>\n",
       "    </tr>\n",
       "    <tr>\n",
       "      <th>4</th>\n",
       "      <td>1880.594545</td>\n",
       "      <td>90.238614</td>\n",
       "      <td>1056.165331</td>\n",
       "      <td>909.991794</td>\n",
       "      <td>1021.066083</td>\n",
       "      <td>0.0</td>\n",
       "    </tr>\n",
       "  </tbody>\n",
       "</table>\n",
       "</div>"
      ],
      "text/plain": [
       "            c1         c2           c3           c4           c5   d1\n",
       "0  1702.339676  97.151127  1187.449039  1090.136386  1106.530204  0.0\n",
       "1  1667.720643  80.366907  1081.197827   945.367799  1087.782255  1.0\n",
       "2  1719.730118  69.581754   967.808030   812.721484   995.881811  0.0\n",
       "3  1681.895917  96.473315  1146.784418  1047.934966  1112.788168  0.0\n",
       "4  1880.594545  90.238614  1056.165331   909.991794  1021.066083  0.0"
      ]
     },
     "execution_count": 163,
     "metadata": {},
     "output_type": "execute_result"
    }
   ],
   "source": [
    "df.head()"
   ]
  },
  {
   "cell_type": "markdown",
   "metadata": {},
   "source": [
    "Удаляем пропуски."
   ]
  },
  {
   "cell_type": "code",
   "execution_count": 164,
   "metadata": {},
   "outputs": [
    {
     "name": "stdout",
     "output_type": "stream",
     "text": [
      "True\n"
     ]
    },
    {
     "data": {
      "text/plain": [
       "False"
      ]
     },
     "execution_count": 164,
     "metadata": {},
     "output_type": "execute_result"
    }
   ],
   "source": [
    "print(df.isnull().values.any())\n",
    "df.dropna(inplace=True)\n",
    "df.isnull().values.any()"
   ]
  },
  {
   "cell_type": "markdown",
   "metadata": {},
   "source": [
    "Не до конца разобрался почему есть признак который вычисляется из таргета, но так как задача учебная оставил."
   ]
  },
  {
   "cell_type": "code",
   "execution_count": 165,
   "metadata": {
    "id": "HLSl8kN1u3hQ"
   },
   "outputs": [],
   "source": [
    "def get_discrete_feature1(df):\n",
    "    if pd.isna(df['c3']) or pd.isna(df['c5']) or pd.isna(df['c4']):\n",
    "        return None\n",
    "\n",
    "    c5 = df['c5']\n",
    "    c3 = df['c3']\n",
    "    c4 = df['c4']\n",
    "\n",
    "    if c3 - c5 >= 92 and c3 - c4 < 230:\n",
    "        return 'cl1'\n",
    "\n",
    "    if c5 - c3 < 92 and c3 - c5 < 92 and c3 - c4 < 230 and c5 - c4 < 250:\n",
    "        return 'cl2'\n",
    "\n",
    "    if c3 - c5 <= 25 and c5 - c3 < 92 and c3 - c4 >= 230:\n",
    "        return 'cl3'\n",
    "\n",
    "    if c5 - c3 >= 92 and c5 - c4 < 230:\n",
    "        return 'cl4'\n",
    "\n",
    "    else:\n",
    "        return 'cl5'"
   ]
  },
  {
   "cell_type": "code",
   "execution_count": 166,
   "metadata": {
    "id": "PPcdNIViu3mC"
   },
   "outputs": [
    {
     "data": {
      "text/html": [
       "<div>\n",
       "<style scoped>\n",
       "    .dataframe tbody tr th:only-of-type {\n",
       "        vertical-align: middle;\n",
       "    }\n",
       "\n",
       "    .dataframe tbody tr th {\n",
       "        vertical-align: top;\n",
       "    }\n",
       "\n",
       "    .dataframe thead th {\n",
       "        text-align: right;\n",
       "    }\n",
       "</style>\n",
       "<table border=\"1\" class=\"dataframe\">\n",
       "  <thead>\n",
       "    <tr style=\"text-align: right;\">\n",
       "      <th></th>\n",
       "      <th>c1</th>\n",
       "      <th>c2</th>\n",
       "      <th>c3</th>\n",
       "      <th>c4</th>\n",
       "      <th>c5</th>\n",
       "      <th>d1</th>\n",
       "      <th>d2</th>\n",
       "    </tr>\n",
       "  </thead>\n",
       "  <tbody>\n",
       "    <tr>\n",
       "      <th>0</th>\n",
       "      <td>1702.339676</td>\n",
       "      <td>97.151127</td>\n",
       "      <td>1187.449039</td>\n",
       "      <td>1090.136386</td>\n",
       "      <td>1106.530204</td>\n",
       "      <td>0.0</td>\n",
       "      <td>cl2</td>\n",
       "    </tr>\n",
       "    <tr>\n",
       "      <th>1</th>\n",
       "      <td>1667.720643</td>\n",
       "      <td>80.366907</td>\n",
       "      <td>1081.197827</td>\n",
       "      <td>945.367799</td>\n",
       "      <td>1087.782255</td>\n",
       "      <td>1.0</td>\n",
       "      <td>cl2</td>\n",
       "    </tr>\n",
       "    <tr>\n",
       "      <th>2</th>\n",
       "      <td>1719.730118</td>\n",
       "      <td>69.581754</td>\n",
       "      <td>967.808030</td>\n",
       "      <td>812.721484</td>\n",
       "      <td>995.881811</td>\n",
       "      <td>0.0</td>\n",
       "      <td>cl2</td>\n",
       "    </tr>\n",
       "    <tr>\n",
       "      <th>3</th>\n",
       "      <td>1681.895917</td>\n",
       "      <td>96.473315</td>\n",
       "      <td>1146.784418</td>\n",
       "      <td>1047.934966</td>\n",
       "      <td>1112.788168</td>\n",
       "      <td>0.0</td>\n",
       "      <td>cl2</td>\n",
       "    </tr>\n",
       "    <tr>\n",
       "      <th>4</th>\n",
       "      <td>1880.594545</td>\n",
       "      <td>90.238614</td>\n",
       "      <td>1056.165331</td>\n",
       "      <td>909.991794</td>\n",
       "      <td>1021.066083</td>\n",
       "      <td>0.0</td>\n",
       "      <td>cl2</td>\n",
       "    </tr>\n",
       "    <tr>\n",
       "      <th>...</th>\n",
       "      <td>...</td>\n",
       "      <td>...</td>\n",
       "      <td>...</td>\n",
       "      <td>...</td>\n",
       "      <td>...</td>\n",
       "      <td>...</td>\n",
       "      <td>...</td>\n",
       "    </tr>\n",
       "    <tr>\n",
       "      <th>772</th>\n",
       "      <td>1630.241487</td>\n",
       "      <td>59.990761</td>\n",
       "      <td>847.202994</td>\n",
       "      <td>823.506819</td>\n",
       "      <td>990.289583</td>\n",
       "      <td>1.0</td>\n",
       "      <td>cl4</td>\n",
       "    </tr>\n",
       "    <tr>\n",
       "      <th>773</th>\n",
       "      <td>1693.725223</td>\n",
       "      <td>88.109343</td>\n",
       "      <td>1076.182680</td>\n",
       "      <td>955.658598</td>\n",
       "      <td>1208.467438</td>\n",
       "      <td>1.0</td>\n",
       "      <td>cl5</td>\n",
       "    </tr>\n",
       "    <tr>\n",
       "      <th>774</th>\n",
       "      <td>1911.658458</td>\n",
       "      <td>84.421679</td>\n",
       "      <td>1014.765775</td>\n",
       "      <td>915.530432</td>\n",
       "      <td>1044.422575</td>\n",
       "      <td>0.0</td>\n",
       "      <td>cl2</td>\n",
       "    </tr>\n",
       "    <tr>\n",
       "      <th>775</th>\n",
       "      <td>1951.382558</td>\n",
       "      <td>75.296976</td>\n",
       "      <td>963.907047</td>\n",
       "      <td>873.414881</td>\n",
       "      <td>992.615990</td>\n",
       "      <td>0.0</td>\n",
       "      <td>cl2</td>\n",
       "    </tr>\n",
       "    <tr>\n",
       "      <th>776</th>\n",
       "      <td>1719.123619</td>\n",
       "      <td>92.684080</td>\n",
       "      <td>1084.894886</td>\n",
       "      <td>949.292456</td>\n",
       "      <td>1065.681579</td>\n",
       "      <td>0.0</td>\n",
       "      <td>cl2</td>\n",
       "    </tr>\n",
       "  </tbody>\n",
       "</table>\n",
       "<p>772 rows × 7 columns</p>\n",
       "</div>"
      ],
      "text/plain": [
       "              c1         c2           c3           c4           c5   d1   d2\n",
       "0    1702.339676  97.151127  1187.449039  1090.136386  1106.530204  0.0  cl2\n",
       "1    1667.720643  80.366907  1081.197827   945.367799  1087.782255  1.0  cl2\n",
       "2    1719.730118  69.581754   967.808030   812.721484   995.881811  0.0  cl2\n",
       "3    1681.895917  96.473315  1146.784418  1047.934966  1112.788168  0.0  cl2\n",
       "4    1880.594545  90.238614  1056.165331   909.991794  1021.066083  0.0  cl2\n",
       "..           ...        ...          ...          ...          ...  ...  ...\n",
       "772  1630.241487  59.990761   847.202994   823.506819   990.289583  1.0  cl4\n",
       "773  1693.725223  88.109343  1076.182680   955.658598  1208.467438  1.0  cl5\n",
       "774  1911.658458  84.421679  1014.765775   915.530432  1044.422575  0.0  cl2\n",
       "775  1951.382558  75.296976   963.907047   873.414881   992.615990  0.0  cl2\n",
       "776  1719.123619  92.684080  1084.894886   949.292456  1065.681579  0.0  cl2\n",
       "\n",
       "[772 rows x 7 columns]"
      ]
     },
     "execution_count": 166,
     "metadata": {},
     "output_type": "execute_result"
    }
   ],
   "source": [
    "# add categorial features\n",
    "for ind in df.index:\n",
    "    row = df.loc[ind]\n",
    "    df.loc[ind, 'd2'] = get_discrete_feature1(row)\n",
    "df.dropna(inplace=True)\n",
    "df.reindex()"
   ]
  },
  {
   "cell_type": "markdown",
   "metadata": {},
   "source": [
    "Нормализуем вещественные признаки и таргет.\n",
    "* Для подсчёта rmse трансформируем их обратно к исходному масштабу.\n",
    "* На нормализованных признаках в данном случае лучше анализировать дендрограмму, а затем кластеризовать.\n"
   ]
  },
  {
   "cell_type": "code",
   "execution_count": 167,
   "metadata": {},
   "outputs": [],
   "source": [
    "# add scaling features\n",
    "scaler_features = preprocessing.StandardScaler()\n",
    "scaler_target = preprocessing.StandardScaler()\n",
    "\n",
    "scaler_features.fit(df[['c1', 'c2']])\n",
    "scaler_target.fit(df[['c3', 'c4', 'c5']])\n",
    "\n",
    "df[['c1', 'c2']] = scaler_features.transform(df[['c1', 'c2']])\n",
    "df[['c3', 'c4', 'c5']] = scaler_target.transform(df[['c3', 'c4', 'c5']])"
   ]
  },
  {
   "cell_type": "markdown",
   "metadata": {},
   "source": [
    "Строим дендрограмму чтобы подобрать гипер параметр (кол-во кластеров) для метода k-means."
   ]
  },
  {
   "cell_type": "code",
   "execution_count": 168,
   "metadata": {},
   "outputs": [
    {
     "data": {
      "image/png": "[encoded data removed]",
      "text/plain": [
       "<Figure size 432x288 with 1 Axes>"
      ]
     },
     "metadata": {
      "needs_background": "light"
     },
     "output_type": "display_data"
    }
   ],
   "source": [
    "# Реализация иерархической кластеризации при помощи функции linkage\n",
    "mergings = linkage(df[['c1', 'c2', 'd1']], method='complete')\n",
    "clt = dendrogram(mergings)\n",
    "\n",
    "plt.title(f\"Иерархическая кластеризацию на нормированых данных\")\n",
    "plt.show()"
   ]
  },
  {
   "cell_type": "markdown",
   "metadata": {},
   "source": [
    "Хорошо просматриваются 3 кластера."
   ]
  },
  {
   "cell_type": "code",
   "execution_count": 169,
   "metadata": {},
   "outputs": [],
   "source": [
    "kmeans3 = KMeans(n_clusters=3, init='k-means++', random_state=0).fit(df[['c1', 'c2', 'd1']])\n",
    "df['km'] = kmeans3.predict(df[['c1', 'c2', 'd1']])"
   ]
  },
  {
   "cell_type": "markdown",
   "metadata": {},
   "source": [
    "Категоризируем вещественные признаки. Заменяем число номером квантиля в который оно попадает."
   ]
  },
  {
   "cell_type": "code",
   "execution_count": 170,
   "metadata": {},
   "outputs": [],
   "source": [
    "df['q_c1'] = pd.qcut(df.c1, 4, labels=False)\n",
    "df['q_c2'] = pd.qcut(df.c2, 4, labels=False)"
   ]
  },
  {
   "cell_type": "markdown",
   "metadata": {},
   "source": [
    "Читерские признаки (вычисляемые от таргета).  \n",
    "~~без этих признаков rmse 46.80016186889012~~"
   ]
  },
  {
   "cell_type": "code",
   "execution_count": 171,
   "metadata": {},
   "outputs": [],
   "source": [
    "df['q_c3'] = pd.qcut(df.c3, 4, labels=False)\n",
    "df['q_c4'] = pd.qcut(df.c4, 4, labels=False)\n",
    "df['q_c5'] = pd.qcut(df.c5, 4, labels=False)"
   ]
  },
  {
   "cell_type": "markdown",
   "metadata": {},
   "source": [
    "Признак d1 сильно напоминает метку класса. Он имеет только значения 0 и 1. Сделаем признак категориальным."
   ]
  },
  {
   "cell_type": "code",
   "execution_count": 172,
   "metadata": {},
   "outputs": [],
   "source": [
    "df['d1_'] = df.d1.map(lambda x: '0' if x == 0.0 else '1')"
   ]
  },
  {
   "cell_type": "code",
   "execution_count": 173,
   "metadata": {
    "colab": {
     "base_uri": "https://localhost:8080/",
     "height": 199
    },
    "executionInfo": {
     "elapsed": 1343,
     "status": "ok",
     "timestamp": 1607719318564,
     "user": {
      "displayName": "Oleg",
      "photoUrl": "",
      "userId": "08226370370335703451"
     },
     "user_tz": -180
    },
    "id": "sYvqO6LLu3oo",
    "outputId": "804e90d8-c8c8-423b-f21f-20fa48826a8f"
   },
   "outputs": [
    {
     "data": {
      "text/html": [
       "<div>\n",
       "<style scoped>\n",
       "    .dataframe tbody tr th:only-of-type {\n",
       "        vertical-align: middle;\n",
       "    }\n",
       "\n",
       "    .dataframe tbody tr th {\n",
       "        vertical-align: top;\n",
       "    }\n",
       "\n",
       "    .dataframe thead th {\n",
       "        text-align: right;\n",
       "    }\n",
       "</style>\n",
       "<table border=\"1\" class=\"dataframe\">\n",
       "  <thead>\n",
       "    <tr style=\"text-align: right;\">\n",
       "      <th></th>\n",
       "      <th>c1</th>\n",
       "      <th>c2</th>\n",
       "      <th>c3</th>\n",
       "      <th>c4</th>\n",
       "      <th>c5</th>\n",
       "      <th>d1</th>\n",
       "      <th>d2</th>\n",
       "      <th>km</th>\n",
       "      <th>q_c1</th>\n",
       "      <th>q_c2</th>\n",
       "      <th>q_c3</th>\n",
       "      <th>q_c4</th>\n",
       "      <th>q_c5</th>\n",
       "      <th>d1_</th>\n",
       "    </tr>\n",
       "  </thead>\n",
       "  <tbody>\n",
       "    <tr>\n",
       "      <th>0</th>\n",
       "      <td>-0.062965</td>\n",
       "      <td>1.243956</td>\n",
       "      <td>1.702379</td>\n",
       "      <td>1.826887</td>\n",
       "      <td>0.742522</td>\n",
       "      <td>0.0</td>\n",
       "      <td>cl2</td>\n",
       "      <td>0</td>\n",
       "      <td>1</td>\n",
       "      <td>3</td>\n",
       "      <td>3</td>\n",
       "      <td>3</td>\n",
       "      <td>3</td>\n",
       "      <td>0</td>\n",
       "    </tr>\n",
       "    <tr>\n",
       "      <th>1</th>\n",
       "      <td>-0.396958</td>\n",
       "      <td>0.318833</td>\n",
       "      <td>0.810379</td>\n",
       "      <td>0.742014</td>\n",
       "      <td>0.558037</td>\n",
       "      <td>1.0</td>\n",
       "      <td>cl2</td>\n",
       "      <td>2</td>\n",
       "      <td>1</td>\n",
       "      <td>2</td>\n",
       "      <td>3</td>\n",
       "      <td>3</td>\n",
       "      <td>3</td>\n",
       "      <td>1</td>\n",
       "    </tr>\n",
       "    <tr>\n",
       "      <th>2</th>\n",
       "      <td>0.104813</td>\n",
       "      <td>-0.275630</td>\n",
       "      <td>-0.141550</td>\n",
       "      <td>-0.252016</td>\n",
       "      <td>-0.346288</td>\n",
       "      <td>0.0</td>\n",
       "      <td>cl2</td>\n",
       "      <td>2</td>\n",
       "      <td>2</td>\n",
       "      <td>1</td>\n",
       "      <td>1</td>\n",
       "      <td>1</td>\n",
       "      <td>1</td>\n",
       "      <td>0</td>\n",
       "    </tr>\n",
       "    <tr>\n",
       "      <th>3</th>\n",
       "      <td>-0.260200</td>\n",
       "      <td>1.206596</td>\n",
       "      <td>1.360992</td>\n",
       "      <td>1.510636</td>\n",
       "      <td>0.804102</td>\n",
       "      <td>0.0</td>\n",
       "      <td>cl2</td>\n",
       "      <td>0</td>\n",
       "      <td>1</td>\n",
       "      <td>3</td>\n",
       "      <td>3</td>\n",
       "      <td>3</td>\n",
       "      <td>3</td>\n",
       "      <td>0</td>\n",
       "    </tr>\n",
       "    <tr>\n",
       "      <th>4</th>\n",
       "      <td>1.656781</td>\n",
       "      <td>0.862948</td>\n",
       "      <td>0.600227</td>\n",
       "      <td>0.476912</td>\n",
       "      <td>-0.098468</td>\n",
       "      <td>0.0</td>\n",
       "      <td>cl2</td>\n",
       "      <td>0</td>\n",
       "      <td>3</td>\n",
       "      <td>3</td>\n",
       "      <td>3</td>\n",
       "      <td>2</td>\n",
       "      <td>2</td>\n",
       "      <td>0</td>\n",
       "    </tr>\n",
       "  </tbody>\n",
       "</table>\n",
       "</div>"
      ],
      "text/plain": [
       "         c1        c2        c3        c4        c5   d1   d2  km  q_c1  q_c2  \\\n",
       "0 -0.062965  1.243956  1.702379  1.826887  0.742522  0.0  cl2   0     1     3   \n",
       "1 -0.396958  0.318833  0.810379  0.742014  0.558037  1.0  cl2   2     1     2   \n",
       "2  0.104813 -0.275630 -0.141550 -0.252016 -0.346288  0.0  cl2   2     2     1   \n",
       "3 -0.260200  1.206596  1.360992  1.510636  0.804102  0.0  cl2   0     1     3   \n",
       "4  1.656781  0.862948  0.600227  0.476912 -0.098468  0.0  cl2   0     3     3   \n",
       "\n",
       "   q_c3  q_c4  q_c5 d1_  \n",
       "0     3     3     3   0  \n",
       "1     3     3     3   1  \n",
       "2     1     1     1   0  \n",
       "3     3     3     3   0  \n",
       "4     3     2     2   0  "
      ]
     },
     "execution_count": 173,
     "metadata": {},
     "output_type": "execute_result"
    }
   ],
   "source": [
    "df.head()"
   ]
  },
  {
   "cell_type": "markdown",
   "metadata": {},
   "source": [
    "Об учимся с читерскими признаками, если потребуется можно обучиться без них. Для это нужно раскомментировать строку."
   ]
  },
  {
   "cell_type": "code",
   "execution_count": 174,
   "metadata": {
    "id": "EkMVuH29u3ta"
   },
   "outputs": [],
   "source": [
    "# с читерскими признаками \n",
    "x_features = ['c1', 'c2', 'd1_', 'km', 'd2', 'q_c1', 'q_c2', 'q_c3', 'q_c4', 'q_c5']\n",
    "# без читерских признаков получаем ровно 2 вещественных и 5 категориальных признаков (как и требуется в задание)\n",
    "# x_features = ['c1', 'c2', 'd1_', 'km', 'd2', 'q_c1', 'q_c2']  # раскомментировать \n",
    "y_features = ['c3', 'c4', 'c5']"
   ]
  },
  {
   "cell_type": "code",
   "execution_count": 175,
   "metadata": {
    "id": "VUvBJRdmDdzj"
   },
   "outputs": [],
   "source": [
    "train_df, test_df = train_test_split(df, test_size=0.2, random_state=42, shuffle=True)"
   ]
  },
  {
   "cell_type": "code",
   "execution_count": 176,
   "metadata": {
    "id": "2SNbsiLjDd5a"
   },
   "outputs": [],
   "source": [
    "model = CatBoostRegressor(silent=True, loss_function='MultiRMSE').fit(train_df[x_features], train_df[y_features], cat_features=[2, 3, 4, 5, 6])"
   ]
  },
  {
   "cell_type": "code",
   "execution_count": 177,
   "metadata": {
    "id": "RaLkQw75J6Sk"
   },
   "outputs": [],
   "source": [
    "def rmse(a1, a2):\n",
    "    diff = (a1 - a2)\n",
    "    return float(np.mean(np.sqrt(np.mean(diff ** 2, axis=0))))"
   ]
  },
  {
   "cell_type": "markdown",
   "metadata": {},
   "source": [
    "У нас нормированные признаки поэтому используем `inverse_transform` для честного подсчёта ошибки."
   ]
  },
  {
   "cell_type": "code",
   "execution_count": 178,
   "metadata": {
    "colab": {
     "base_uri": "https://localhost:8080/"
    },
    "executionInfo": {
     "elapsed": 6630,
     "status": "ok",
     "timestamp": 1607719328589,
     "user": {
      "displayName": "Oleg",
      "photoUrl": "",
      "userId": "08226370370335703451"
     },
     "user_tz": -180
    },
    "id": "6bs8EAL3Dd75",
    "outputId": "edf0e0a5-44b3-4ec2-c458-8419ff25b9cb"
   },
   "outputs": [
    {
     "name": "stdout",
     "output_type": "stream",
     "text": [
      "35.553616169364055\n"
     ]
    }
   ],
   "source": [
    "pred = np.array(model.predict(test_df[x_features]))\n",
    "\n",
    "print(rmse(scaler_target.inverse_transform(pred), scaler_target.inverse_transform(test_df[y_features])))"
   ]
  }
 ],
 "metadata": {
  "colab": {
   "authorship_tag": "ABX9TyOuuR2vwcXj8AoUFdUlSol/",
   "collapsed_sections": [],
   "name": "texel_test_task.ipynb",
   "provenance": []
  },
  "kernelspec": {
   "display_name": "Python 3",
   "language": "python",
   "name": "python3"
  },
  "language_info": {
   "codemirror_mode": {
    "name": "ipython",
    "version": 3
   },
   "file_extension": ".py",
   "mimetype": "text/x-python",
   "name": "python",
   "nbconvert_exporter": "python",
   "pygments_lexer": "ipython3",
   "version": "3.8.5"
  }
 },
 "nbformat": 4,
 "nbformat_minor": 1
}
